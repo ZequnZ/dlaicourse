{
  "nbformat": 4,
  "nbformat_minor": 0,
  "metadata": {
    "accelerator": "GPU",
    "colab": {
      "name": "Week 4 Exercise Question.ipynb",
      "provenance": [],
      "collapsed_sections": [],
      "include_colab_link": true
    },
    "coursera": {
      "schema_names": [
        "tensorflow-datasets-w4"
      ]
    },
    "kernelspec": {
      "display_name": "Python 3",
      "language": "python",
      "name": "python3"
    },
    "language_info": {
      "codemirror_mode": {
        "name": "ipython",
        "version": 3
      },
      "file_extension": ".py",
      "mimetype": "text/x-python",
      "name": "python",
      "nbconvert_exporter": "python",
      "pygments_lexer": "ipython3",
      "version": "3.6.9"
    }
  },
  "cells": [
    {
      "cell_type": "markdown",
      "metadata": {
        "id": "view-in-github",
        "colab_type": "text"
      },
      "source": [
        "<a href=\"https://colab.research.google.com/github/ZequnZ/dlaicourse/blob/master/TensorFlow%20Deployment/Course%203%20-%20TensorFlow%20Datasets/Week%204/Exercises/TFDS-V2-Week4.ipynb\" target=\"_parent\"><img src=\"https://colab.research.google.com/assets/colab-badge.svg\" alt=\"Open In Colab\"/></a>"
      ]
    },
    {
      "cell_type": "markdown",
      "metadata": {
        "id": "zjIDK1x1P5io"
      },
      "source": [
        "# Parallelization with TFDS"
      ]
    },
    {
      "cell_type": "markdown",
      "metadata": {
        "id": "IEuKiMNFP5iu"
      },
      "source": [
        "In this week's exercise, we'll go back to the classic cats versus dogs example, but instead of just naively loading the data to train a model, you will be parallelizing various stages of the Extract, Transform and Load processes. In particular, you will be performing following tasks:   \n",
        "\n",
        "1.   Parallelize the extraction of the stored TFRecords of the cats_vs_dogs dataset by using the interleave operation.\n",
        "2.   Parallelize the transformation during the preprocessing of the raw dataset by using the map operation.\n",
        "3.   Cache the processed dataset in memory by using the cache operation for faster retrieval.\n",
        "4.   Parallelize the loading of the cached dataset during the training cycle by using the prefetch operation."
      ]
    },
    {
      "cell_type": "markdown",
      "metadata": {
        "id": "58CoZcZhP5iv"
      },
      "source": [
        "## Setup"
      ]
    },
    {
      "cell_type": "code",
      "metadata": {
        "id": "RoPuCbDtBlYK"
      },
      "source": [
        "import multiprocessing\n",
        "\n",
        "import tensorflow as tf\n",
        "import tensorflow_datasets as tfds\n",
        "\n",
        "from os import getcwd"
      ],
      "execution_count": 1,
      "outputs": []
    },
    {
      "cell_type": "markdown",
      "metadata": {
        "id": "bL47uWCeP5iw"
      },
      "source": [
        "## Create and Compile the Model"
      ]
    },
    {
      "cell_type": "code",
      "metadata": {
        "id": "WOI6Dk_oJQEK"
      },
      "source": [
        "def create_model():\n",
        "    input_layer = tf.keras.layers.Input(shape=(224, 224, 3))\n",
        "    base_model = tf.keras.applications.MobileNetV2(input_tensor=input_layer,\n",
        "                                                   weights='imagenet',\n",
        "                                                   include_top=False)\n",
        "    base_model.trainable = False\n",
        "    x = tf.keras.layers.GlobalAveragePooling2D()(base_model.output)\n",
        "    x = tf.keras.layers.Dense(2, activation='softmax')(x)\n",
        "    \n",
        "    model = tf.keras.models.Model(inputs=input_layer, outputs=x)\n",
        "    model.compile(optimizer='adam',\n",
        "                  loss='sparse_categorical_crossentropy',\n",
        "                  metrics=['acc'])\n",
        "    return model"
      ],
      "execution_count": 2,
      "outputs": []
    },
    {
      "cell_type": "markdown",
      "metadata": {
        "id": "tnBwTkGqP5iw"
      },
      "source": [
        "## Naive Approach\n",
        "\n",
        "Just for comparison, let's start by using the naive approach to Extract, Transform, and Load the data to train the model defined above. By naive approach we mean that we won't apply any of the new concepts of parallelization that we learned about in this module."
      ]
    },
    {
      "cell_type": "code",
      "metadata": {
        "id": "SPjns6UfCCSn"
      },
      "source": [
        "dataset_name = 'cats_vs_dogs'\n",
        "filePath = f\"{getcwd()}/data\"\n",
        "dataset, info = tfds.load(name=dataset_name, split=tfds.Split.TRAIN, with_info=True, data_dir=filePath)"
      ],
      "execution_count": 3,
      "outputs": []
    },
    {
      "cell_type": "code",
      "metadata": {
        "colab": {
          "base_uri": "https://localhost:8080/"
        },
        "id": "hN3P7OWKQLG2",
        "outputId": "94a73d58-47a1-44a7-e4fd-c2c5a995197a"
      },
      "source": [
        "print(info.version)"
      ],
      "execution_count": 4,
      "outputs": [
        {
          "output_type": "stream",
          "text": [
            "4.0.0\n"
          ],
          "name": "stdout"
        }
      ]
    },
    {
      "cell_type": "code",
      "metadata": {
        "id": "I3Q7Etb8ENRG"
      },
      "source": [
        "def preprocess(features):\n",
        "    image = features['image']\n",
        "    image = tf.image.resize(image, (224, 224))\n",
        "    image = image / 255.0\n",
        "    return image, features['label']"
      ],
      "execution_count": 5,
      "outputs": []
    },
    {
      "cell_type": "code",
      "metadata": {
        "id": "sQCfvf4WENg2"
      },
      "source": [
        "train_dataset = dataset.map(preprocess).batch(32)"
      ],
      "execution_count": 6,
      "outputs": []
    },
    {
      "cell_type": "code",
      "metadata": {
        "id": "fmiZu2tWQzyt",
        "outputId": "dfa2620a-bd93-4f6b-bb1f-46e761f1fb0a",
        "colab": {
          "base_uri": "https://localhost:8080/"
        }
      },
      "source": [
        "model = create_model()\n",
        "model.fit(train_dataset, epochs=5)"
      ],
      "execution_count": 8,
      "outputs": [
        {
          "output_type": "stream",
          "text": [
            "WARNING:tensorflow:`input_shape` is undefined or non-square, or `rows` is not in [96, 128, 160, 192, 224]. Weights for input shape (224, 224) will be loaded as the default.\n"
          ],
          "name": "stdout"
        },
        {
          "output_type": "stream",
          "text": [
            "WARNING:tensorflow:`input_shape` is undefined or non-square, or `rows` is not in [96, 128, 160, 192, 224]. Weights for input shape (224, 224) will be loaded as the default.\n"
          ],
          "name": "stderr"
        },
        {
          "output_type": "stream",
          "text": [
            "Downloading data from https://storage.googleapis.com/tensorflow/keras-applications/mobilenet_v2/mobilenet_v2_weights_tf_dim_ordering_tf_kernels_1.0_224_no_top.h5\n",
            "9412608/9406464 [==============================] - 0s 0us/step\n",
            "Epoch 1/5\n",
            "727/727 [==============================] - 45s 50ms/step - loss: 0.0962 - acc: 0.9640\n",
            "Epoch 2/5\n",
            "727/727 [==============================] - 35s 48ms/step - loss: 0.0439 - acc: 0.9841\n",
            "Epoch 3/5\n",
            "727/727 [==============================] - 34s 47ms/step - loss: 0.0380 - acc: 0.9872\n",
            "Epoch 4/5\n",
            "727/727 [==============================] - 33s 46ms/step - loss: 0.0342 - acc: 0.9890\n",
            "Epoch 5/5\n",
            "727/727 [==============================] - 33s 45ms/step - loss: 0.0315 - acc: 0.9904\n"
          ],
          "name": "stdout"
        },
        {
          "output_type": "execute_result",
          "data": {
            "text/plain": [
              "<tensorflow.python.keras.callbacks.History at 0x7fae7005b828>"
            ]
          },
          "metadata": {
            "tags": []
          },
          "execution_count": 8
        }
      ]
    },
    {
      "cell_type": "code",
      "metadata": {
        "colab": {
          "base_uri": "https://localhost:8080/",
          "height": 130
        },
        "id": "8jyjiJd8Cvwc",
        "outputId": "51a632f5-2d2d-4879-9eac-466fba92520c"
      },
      "source": [
        "The next step will be to train the model using the following code:\n",
        "\n",
        "```python\n",
        "model = create_model()\n",
        "model.fit(train_dataset, epochs=5)\n",
        "```\n",
        "Since we want to focus on the parallelization techniques, we won't go through the training process here, as this can take some time. "
      ],
      "execution_count": 7,
      "outputs": [
        {
          "output_type": "error",
          "ename": "SyntaxError",
          "evalue": "ignored",
          "traceback": [
            "\u001b[0;36m  File \u001b[0;32m\"<ipython-input-7-c7b8d1c076a8>\"\u001b[0;36m, line \u001b[0;32m1\u001b[0m\n\u001b[0;31m    The next step will be to train the model using the following code:\u001b[0m\n\u001b[0m           ^\u001b[0m\n\u001b[0;31mSyntaxError\u001b[0m\u001b[0;31m:\u001b[0m invalid syntax\n"
          ]
        }
      ]
    },
    {
      "cell_type": "markdown",
      "metadata": {
        "id": "c5fzrFnXLEJW"
      },
      "source": [
        "# Parallelize Various Stages of the ETL Processes\n",
        "\n",
        "The following exercises are about parallelizing various stages of Extract, Transform and Load processes. In particular, you will be tasked with performing following tasks:   \n",
        "\n",
        "1.   Parallelize the extraction of the stored TFRecords of the cats_vs_dogs dataset by using the interleave operation.\n",
        "2.   Parallelize the transformation during the preprocessing of the raw dataset by using the map operation.\n",
        "3.   Cache the processed dataset in memory by using the cache operation for faster retrieval.\n",
        "4.   Parallelize the loading of the cached dataset during the training cycle by using the prefetch operation.\n",
        "\n",
        "We start by creating a dataset of strings corresponding to the `file_pattern` of the TFRecords of the cats_vs_dogs dataset."
      ]
    },
    {
      "cell_type": "code",
      "metadata": {
        "id": "S9Tqn9gALFaE"
      },
      "source": [
        "file_pattern = f'{getcwd()}/data/{dataset_name}/{info.version}/{dataset_name}-train.tfrecord*'\n",
        "files = tf.data.Dataset.list_files(file_pattern)"
      ],
      "execution_count": 4,
      "outputs": []
    },
    {
      "cell_type": "markdown",
      "metadata": {
        "id": "OlBkYnKyP5iz"
      },
      "source": [
        "Let's recall that the TFRecord format is a simple format for storing a sequence of binary records. This is very useful because by serializing the data and storing it in a set of files (100-200MB each) that can each be read linearly greatly increases the efficiency when reading the data.\n",
        "\n",
        "Since we will use it later, we should also recall that a `tf.Example` message (or protobuf) is a flexible message type that represents a `{\"string\": tf.train.Feature}` mapping."
      ]
    },
    {
      "cell_type": "markdown",
      "metadata": {
        "id": "bqvYsWmVS9EW"
      },
      "source": [
        "## Parallelize Extraction\n",
        "\n",
        "In the cell below you will use the [interleave](https://www.tensorflow.org/api_docs/python/tf/data/Dataset#interleave) operation with certain [arguments](https://www.tensorflow.org/api_docs/python/tf/data/Dataset#args_38) to parallelize the extraction of the stored TFRecords of the cats_vs_dogs dataset.\n",
        "\n",
        "Recall that `tf.data.experimental.AUTOTUNE` will delegate the decision about what level of parallelism to use to the `tf.data` runtime."
      ]
    },
    {
      "cell_type": "code",
      "metadata": {
        "id": "2zYCJMSoSHhd"
      },
      "source": [
        "# EXERCISE: Parallelize the extraction of the stored TFRecords of\n",
        "# the cats_vs_dogs dataset by using the interleave operation with\n",
        "# cycle_length = 4 and the number of parallel calls set to tf.data.experimental.AUTOTUNE.\n",
        "train_dataset = files.interleave(tf.data.TFRecordDataset,\n",
        "                                 cycle_length=4,\n",
        "                                 num_parallel_calls=tf.data.experimental.AUTOTUNE)"
      ],
      "execution_count": 5,
      "outputs": []
    },
    {
      "cell_type": "markdown",
      "metadata": {
        "id": "OiL5S0GdTKPK"
      },
      "source": [
        "## Parse and Decode\n",
        "\n",
        "At this point the `train_dataset` contains serialized `tf.train.Example` messages. When iterated over, it returns these as scalar string tensors. The sample output for one record is given below:\n",
        "\n",
        "```\n",
        "<tf.Tensor: id=189, shape=(), dtype=string, numpy=b'\\n\\x8f\\xc4\\x01\\n\\x0e\\n\\x05label\\x12\\x05\\x1a\\x03\\n\\x01\\x00\\n,\\n\\x0eimage/filename\\x12\\x1a\\n\\x18\\n\\x16PetImages/Cat/4159.jpg\\n\\xcd\\xc3\\x01\\n\\x05image\\x12...\\xff\\xd9'>\n",
        "```\n",
        "\n",
        "In order to be able to use these tensors to train our model, we must first parse them and decode them. We can parse and decode these string tensors by using a function. In the cell below you will create a `read_tfrecord` function that will read the serialized `tf.train.Example` messages and decode them. The function will also normalize and resize the images after they have been decoded. \n",
        "\n",
        "In order to parse the `tf.train.Example` messages we need to create a `feature_description` dictionary. We need the `feature_description` dictionary because TFDS uses graph-execution and therefore, needs this description to build their shape and type signature. The basic structure of the `feature_description` dictionary looks like this:\n",
        "\n",
        "```python\n",
        "feature_description = {'feature': tf.io.FixedLenFeature([], tf.Dtype, default_value)}\n",
        "```\n",
        "\n",
        "The number of features in your `feature_description` dictionary will vary depending on your dataset. In our particular case, the features are `'image'` and `'label'` and can be seen in the sample output of the string tensor above. Therefore, our `feature_description` dictionary will look like this:\n",
        "\n",
        "```python\n",
        "feature_description = {\n",
        "    'image': tf.io.FixedLenFeature((), tf.string, \"\"),\n",
        "    'label': tf.io.FixedLenFeature((), tf.int64, -1),\n",
        "}\n",
        "```\n",
        "\n",
        "where we have given the default values of `\"\"` and `-1` to the `'image'` and `'label'` respectively.\n",
        "\n",
        "The next step will be to parse the serialized `tf.train.Example` message using the `feature_description` dictionary given above. This can be done with the following code:\n",
        "\n",
        "```python\n",
        "example = tf.io.parse_single_example(serialized_example, feature_description)\n",
        "```\n",
        "\n",
        "Finally, we can decode the image by using:\n",
        "\n",
        "```python\n",
        "image = tf.io.decode_jpeg(example['image'], channels=3)\n",
        "```\n",
        "\n",
        "Use the code given above to complete the exercise below."
      ]
    },
    {
      "cell_type": "code",
      "metadata": {
        "id": "5iWEqIYQSYgN"
      },
      "source": [
        "# EXERCISE: Fill in the missing code below.\n",
        "\n",
        "def read_tfrecord(serialized_example):\n",
        "    \n",
        "    # Create the feature description dictionary\n",
        "    feature_description = {\n",
        "        'image': tf.io.FixedLenFeature((), tf.string, \"\"),\n",
        "        'label': tf.io.FixedLenFeature((), tf.int64, -1),\n",
        "    }\n",
        "    # Parse the serialized_example and decode the image\n",
        "    example = tf.io.parse_single_example(serialized_example, feature_description)\n",
        "    image = tf.io.decode_jpeg(example['image'], channels=3)\n",
        "    \n",
        "    image = tf.cast(image, tf.float32)\n",
        "    \n",
        "    # Normalize the pixels in the image\n",
        "    image = tf.image.per_image_standardization(image)\n",
        "    \n",
        "    # Resize the image to (224, 224) using tf.image.resize\n",
        "    image = tf.image.resize(image,(224,224))\n",
        "    \n",
        "    return image, example['label']"
      ],
      "execution_count": 6,
      "outputs": []
    },
    {
      "cell_type": "markdown",
      "metadata": {
        "id": "T5ndzYiZP5i1"
      },
      "source": [
        "## Parallelize Transformation\n",
        "\n",
        "You can now apply the `read_tfrecord` function to each item in the `train_dataset` by using the `map` method. You can parallelize the transformation of the `train_dataset` by using the `map` method with the `num_parallel_calls` set to the number of CPU cores."
      ]
    },
    {
      "cell_type": "code",
      "metadata": {
        "colab": {
          "base_uri": "https://localhost:8080/"
        },
        "id": "mRFO7n7odLTk",
        "outputId": "65f0f9a0-ba61-4dc1-9786-51e2fee406dc"
      },
      "source": [
        "# EXERCISE: Fill in the missing code below.\n",
        "\n",
        "# Get the number of CPU cores. \n",
        "cores = multiprocessing.cpu_count()\n",
        "\n",
        "print(cores)\n",
        "\n",
        "# Parallelize the transformation of the train_dataset by using\n",
        "# the map operation with the number of parallel calls set to\n",
        "# the number of CPU cores.\n",
        "train_dataset = train_dataset.map(read_tfrecord,num_parallel_calls=tf.data.experimental.AUTOTUNE)"
      ],
      "execution_count": 7,
      "outputs": [
        {
          "output_type": "stream",
          "text": [
            "2\n"
          ],
          "name": "stdout"
        }
      ]
    },
    {
      "cell_type": "markdown",
      "metadata": {
        "id": "43XLYAvGTsew"
      },
      "source": [
        "## Cache the Dataset"
      ]
    },
    {
      "cell_type": "code",
      "metadata": {
        "id": "D0zWUJ3gTuRx"
      },
      "source": [
        "# EXERCISE: Cache the train_dataset in-memory.\n",
        "train_dataset = train_dataset.cache()"
      ],
      "execution_count": 8,
      "outputs": []
    },
    {
      "cell_type": "markdown",
      "metadata": {
        "id": "KhpFlwM8TTxO"
      },
      "source": [
        "## Parallelize Loading"
      ]
    },
    {
      "cell_type": "code",
      "metadata": {
        "id": "FdZ-aTECSE2a"
      },
      "source": [
        "# EXERCISE: Fill in the missing code below.\n",
        "\n",
        "# Shuffle and batch the train_dataset. Use a buffer size of 1024\n",
        "# for shuffling and a batch size 32 for batching. \n",
        "train_dataset = train_dataset.shuffle(1024).batch(32)\n",
        "\n",
        "# Parallelize the loading by prefetching the train_dataset.\n",
        "# Set the prefetching buffer size to tf.data.experimental.AUTOTUNE.\n",
        "train_dataset = train_dataset.prefetch(tf.data.experimental.AUTOTUNE)"
      ],
      "execution_count": 9,
      "outputs": []
    },
    {
      "cell_type": "code",
      "metadata": {
        "id": "du3vH2mORssI",
        "outputId": "0ecd0245-c19b-4daf-8812-18f825d7a9f7",
        "colab": {
          "base_uri": "https://localhost:8080/"
        }
      },
      "source": [
        "model = create_model()\n",
        "model.fit(train_dataset, epochs=5)"
      ],
      "execution_count": null,
      "outputs": [
        {
          "output_type": "stream",
          "text": [
            "WARNING:tensorflow:`input_shape` is undefined or non-square, or `rows` is not in [96, 128, 160, 192, 224]. Weights for input shape (224, 224) will be loaded as the default.\n"
          ],
          "name": "stdout"
        },
        {
          "output_type": "stream",
          "text": [
            "WARNING:tensorflow:`input_shape` is undefined or non-square, or `rows` is not in [96, 128, 160, 192, 224]. Weights for input shape (224, 224) will be loaded as the default.\n"
          ],
          "name": "stderr"
        },
        {
          "output_type": "stream",
          "text": [
            "Epoch 1/5\n",
            "    484/Unknown - 63s 108ms/step - loss: 0.1478 - acc: 0.9388"
          ],
          "name": "stdout"
        }
      ]
    },
    {
      "cell_type": "code",
      "metadata": {
        "id": "zSMpkNrbLFoa"
      },
      "source": [
        "The next step will be to train your model using the following code:\n",
        "\n",
        "```python\n",
        "model = create_model()\n",
        "model.fit(train_dataset, epochs=5)\n",
        "```\n",
        "We won't go through the training process here as this can take some time. However, due to the parallelization of the various stages of the ETL processes, you should see a decrease in training time as compared to the naive approach depicted at beginning of the notebook."
      ],
      "execution_count": null,
      "outputs": []
    },
    {
      "cell_type": "markdown",
      "metadata": {
        "id": "toHIVmwGP5i3"
      },
      "source": [
        "# Submission Instructions"
      ]
    },
    {
      "cell_type": "code",
      "metadata": {
        "id": "uJPiA98oPfrg"
      },
      "source": [
        "# Now click the 'Submit Assignment' button above."
      ],
      "execution_count": null,
      "outputs": []
    },
    {
      "cell_type": "markdown",
      "metadata": {
        "id": "uQMt3qAEP5i3"
      },
      "source": [
        "# When you're done or would like to take a break, please run the two cells below to save your work and close the Notebook. This frees up resources for your fellow learners."
      ]
    },
    {
      "cell_type": "code",
      "metadata": {
        "id": "azWY9DZ1P5i3"
      },
      "source": [
        "%%javascript\n",
        "<!-- Save the notebook -->\n",
        "IPython.notebook.save_checkpoint();"
      ],
      "execution_count": null,
      "outputs": []
    },
    {
      "cell_type": "code",
      "metadata": {
        "id": "a3xAcKa4P5i4"
      },
      "source": [
        "%%javascript\n",
        "<!-- Shutdown and close the notebook -->\n",
        "window.onbeforeunload = null\n",
        "window.close();\n",
        "IPython.notebook.session.delete();"
      ],
      "execution_count": null,
      "outputs": []
    }
  ]
}